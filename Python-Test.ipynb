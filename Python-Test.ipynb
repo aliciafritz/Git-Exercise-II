{
 "cells": [
  {
   "cell_type": "markdown",
   "id": "9ccdba55",
   "metadata": {},
   "source": [
    "# Feature 1\n",
    "\n",
    "Feature 1 is our first feature"
   ]
  },
  {
   "cell_type": "code",
   "execution_count": 1,
   "id": "4c0c1b4a",
   "metadata": {},
   "outputs": [
    {
     "name": "stdout",
     "output_type": "stream",
     "text": [
      "This is my first feature\n"
     ]
    }
   ],
   "source": [
    "print (\"This is my first feature\")"
   ]
  },
  {
   "cell_type": "code",
   "execution_count": 2,
   "id": "677cab7b",
   "metadata": {},
   "outputs": [
    {
     "name": "stdout",
     "output_type": "stream",
     "text": [
      "This will be in python\n"
     ]
    }
   ],
   "source": [
    "print (\"This will be in python\")"
   ]
  },
  {
   "cell_type": "code",
   "execution_count": null,
   "id": "9610914a",
   "metadata": {},
   "outputs": [],
   "source": []
  }
 ],
 "metadata": {
  "kernelspec": {
   "display_name": "Python 3 (ipykernel)",
   "language": "python",
   "name": "python3"
  },
  "language_info": {
   "codemirror_mode": {
    "name": "ipython",
    "version": 3
   },
   "file_extension": ".py",
   "mimetype": "text/x-python",
   "name": "python",
   "nbconvert_exporter": "python",
   "pygments_lexer": "ipython3",
   "version": "3.11.4"
  }
 },
 "nbformat": 4,
 "nbformat_minor": 5
}
